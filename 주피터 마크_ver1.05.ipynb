{
 "cells": [
  {
   "cell_type": "markdown",
   "id": "415948b8",
   "metadata": {},
   "source": [
    "<img style=\"float:right\" src=\"images\\kim_peek_banner.png\" alt=\"Youtube_banner\" >"
   ]
  },
  {
   "cell_type": "markdown",
   "id": "b2fcdaa8",
   "metadata": {},
   "source": [
    "#####  <span style='color:#020754'> <u> 누구를 위한 강의인가?</span>  \n",
    "- <b> 파이썬, 코딩 한 번도 안 해본 사람 & 초보자\n",
    "- <b> 주피터 노트북으로 이쁘게 꾸미면서 코딩하고 싶은 사람\n",
    "- <font color=grey> 여자친구없는 사람..."
   ]
  },
  {
   "cell_type": "markdown",
   "id": "5ee3227d",
   "metadata": {},
   "source": [
    "# <span style='background :white' >    <span style='color:navy'><u> 꾸미면서 배우는 파이썬(주피터노트북)</u> </span>     </span>\n",
    "_목차를 클릭해서 이동가능합니다_\n",
    "\n",
    "- [주피터 필수 단축키](#key_shortcuts)\n",
    "    - [edit mode(에디트모드) 단축키](#edit_mode_shortcuts)\n",
    "    - [command mode(커멘드모드) 단축키](#edit_mode_shortcuts)\n",
    "\n",
    "---\n",
    "- [꾸미기 원리](#overview)\n",
    "---\n",
    "- [꾸미기 필수](#beginner)\n",
    "    - [Headings(헤딩)](#headings)\n",
    "        - [Markdown method](#headings_markdown)\n",
    "        - [HTML method](#headings_html)\n",
    "    - [Line breaks(줄바꾸기)](#linebreaks)\n",
    "        - [Markdown method](#linebreaks_markdown)\n",
    "        - [HTML method](#linebreaks_html)\n",
    "    - [Emphasis(글씨 진하게,밑줄,이탈릭스)](#emphasis)\n",
    "        - [Markdown method](#emphasis_markdown)\n",
    "        - [HTML method](#emphasis_html)\n",
    "    - [Font/background Colors 폰트/배경 색깔](#font_background_color)\n",
    "        - [Font Color](#font_color)\n",
    "        - [Background Color](#background_color)\n",
    "    - [Horizontal Line(가로줄)](#horizontal_line)\n",
    "        - [Markdown method](#horizontal_markdown)\n",
    "        - [HTML method](#horizontal_html)\n",
    "    - [List(리스트)](#list)\n",
    "        - [Ordered list](#ordered_list)\n",
    "            - [Markdown method](#ordered_list_markdown)\n",
    "            - [HTML method](#ordered_list_html)\n",
    "        - [Unordered list](#unordered_list)\n",
    "            - [Markdown method](#unordered_list_markdown)\n",
    "            - [HTML method](#unordered_list_html)   \n",
    "    - [Image(이미지)](#image)\n",
    "        - [Method 1—직접 삽입](#image_method1)\n",
    "        - [Method 2—디렉토리 이미지 삽입](#image_method2)\n",
    "        - [Method 3—웹이미지 삽입](#image_method3)\n",
    "---\n",
    "- [꾸미기 심화](#intermediate)\n",
    "    - [Blockquote(블록쿼트)](#blockquote)\n",
    "        - [Markdown method](#blockquote_markdown)\n",
    "        - [HTML method](#blockquote_html)\n",
    "    - [Nested Blockquote(네스트 블록쿼트)](#nestedblockquote)\n",
    "        - [Markdown method](#nestedblockquote_markdown)\n",
    "        - [HTML method](#nestedblockquote_html)\n",
    "    - [Code blocks(코드블록)](#codeblock)\n",
    "        - [Markdown method](#codeblock_markdown)\n",
    "    - [Table(표)](#tables)\n",
    "        - [Markdown method](#nestedblockquote_markdown)\n",
    "        - [HTML method](#nestedblockquote_html)    \n",
    "    - [Colored Box(컬러박스)](#colorbox)\n",
    "    - [External Links(외부링크)](#external_links)\n",
    "        - [Markdown method](#external_links_markdown)\n",
    "        - [HTML method](#external_links_html)\n",
    "    - [Internal Links(내부링크)](#internal_links)\n",
    "- [LaTex(라텍스)](#latex)\n",
    "    - [Greek letters(그리스알파벳)](#greek_letters) \n",
    "    - [Unary Operators(한국말로 뭔지 모름)](#unary_operators)\n",
    "    - [Relation Operators(한국말로 뭔지 모름)](#relation_operators)\n",
    "    - [Binary Operators(한국말로 뭔지 모름)](#binary_operators)\n",
    "\n",
    "---\n",
    "- [꾸미기 미세팁](#tips)\n",
    "    - [Backslash Escape](#backslash_escape)"
   ]
  },
  {
   "cell_type": "markdown",
   "id": "ebfb94f1",
   "metadata": {},
   "source": [
    "<img src=\"images/typing_cat.gif\" alt=\"Typing Cat\" width=500>"
   ]
  },
  {
   "cell_type": "markdown",
   "id": "0d09bd5f",
   "metadata": {},
   "source": [
    "***\n",
    "# <span style='background :white' >   <span style='color:darkblue'> <u> 주피터 필수 단축키 </span></span> <a id='key_shortcuts'>"
   ]
  },
  {
   "cell_type": "markdown",
   "id": "9a0b87f8",
   "metadata": {},
   "source": [
    "<div class=\"alert alert-block alert-info\">\n",
    "<b><u>두 가지 모드</u></b> \n",
    "    \n",
    "- edit mode: 커서가 셀 안에서 깜빡이고 있을 때가 Edit Mode 입니다\n",
    "- command mode: 커서가 셀 안에서 깜빡이지 않고 있을 때가 Command Mode 입니다"
   ]
  },
  {
   "cell_type": "markdown",
   "id": "0de21a78",
   "metadata": {},
   "source": [
    "## <span style='background :navy' >    <span style='color:white'> Edit Mode 단축키   </span>     </span> <a id='edit_mode_shortcuts'>"
   ]
  },
  {
   "cell_type": "markdown",
   "id": "8d4476a9",
   "metadata": {},
   "source": [
    "Edit Mode 상태\n",
    "<img style=\"float:right\" src=\"images\\edit_mode.gif\" alt=\"Youtube_banner\" >"
   ]
  },
  {
   "cell_type": "markdown",
   "id": "91c1e7e5",
   "metadata": {},
   "source": [
    "- ```Ctrl + Enter``` : 해당 코드 블록 실행 \n",
    "- ```Shift + Enter``` : 해당 코드 블록 실행 후 다음 코드 블록 이동\n",
    "- ```Alt + Enter``` : 해당 코드 블록 실행 후 다음 코드 블록 생성\n",
    "- ```Esc``` : Edit Mode에서 Command Mode로 전환"
   ]
  },
  {
   "cell_type": "markdown",
   "id": "d20304db",
   "metadata": {},
   "source": [
    "## <span style='background :navy' >    <span style='color:white'> Command Mode 단축키   </span>     </span> <a id='command_mode_shortcuts'>"
   ]
  },
  {
   "cell_type": "markdown",
   "id": "ffff5ca9",
   "metadata": {},
   "source": [
    "- ```Ctrl + Enter``` : 해당 코드 블록 실행 \n",
    "- ```Shift + Enter``` : 해당 코드 블록 실행 후 다음 코드 블록 이동\n",
    "- ```Alt + Enter``` : 해당 코드 블록 실행 후 다음 코드 블록 \n",
    "- ```Enter``` :  Commoand Mode에서 Edit Mode로 전환\n",
    "- ```up down key```: 위 아래로 이동\n",
    "- ```space``` : 아래로 스크롤링\n",
    "- ```shit + space``` : 위로 스크롤링\n",
    "- ```b```: 현재 코드 블록 아래 새로운 코드 블록 추가\n",
    "- ```a```:  현재 코드 블록 위 새로운 코드 블록 추가\n",
    "- ```dd```: 현재 코드 블록 삭제\n",
    "- ```z``` : 코드 블록 삭제 취소\n",
    "- ```c``` : 현재 코드 블록 복사\n",
    "- ```x``` : 현재 코드 블록 잘라내기\n",
    "- ```v``` : 복사한 코드 블록 붙여넣기\n",
    "- ```m``` : Markdown 블록으로 전환\n",
    "- ```y``` : Code 코드 블록으로 전환\n",
    "- ```p``` : Command Palette 열기\n",
    "- ```h``` : 모든 단축키보기"
   ]
  },
  {
   "cell_type": "markdown",
   "id": "bd692ca2",
   "metadata": {},
   "source": [
    "<img src=\"images/bob_easy.jpg\" alt=\"참 쉽죠?\" width=500>"
   ]
  },
  {
   "cell_type": "markdown",
   "id": "ced39ef0",
   "metadata": {},
   "source": [
    "***\n",
    "# <span style='background :white' >    <span style='color:green'> <u> 꾸미기 원리  </span></span> <a id='overview'>"
   ]
  },
  {
   "cell_type": "markdown",
   "id": "b89feb05",
   "metadata": {},
   "source": [
    "<div class=\"alert alert-block alert-success\">\n",
    "<b>두 가지만 알자:</b> \n",
    "<li> Markdown: 쉽고 간단하게 꾸미는 데 최적화. 초간단, 쉬운 버전의 HTML이라고 볼 수 있음. \n",
    "<li> HTML: 더 세련되고 복잡하게 꾸밀 수 있음.\n",
    "</div>"
   ]
  },
  {
   "cell_type": "markdown",
   "id": "33d7caca",
   "metadata": {},
   "source": [
    "***\n",
    "# <span style='background :white' >    <span style='color:green'> <u> 꾸미기 필수  </span></span> <a id='beginner'>\n"
   ]
  },
  {
   "cell_type": "markdown",
   "id": "71ad2e08",
   "metadata": {},
   "source": [
    "## <span style='background :green' >    <span style='color:white'> Headings(헤딩)   </span>     </span> <a id='headings'>"
   ]
  },
  {
   "cell_type": "markdown",
   "id": "fc96e132",
   "metadata": {},
   "source": [
    "#### <font color = green> Markdown version <a id='headings_markdown'>"
   ]
  },
  {
   "cell_type": "markdown",
   "id": "c0ec89cb",
   "metadata": {},
   "source": [
    "# Heading 1\n",
    "## Heading 2\n",
    "### Heading 3\n",
    "#### Heading 4\n",
    "##### Heading 5"
   ]
  },
  {
   "cell_type": "markdown",
   "id": "9b2d86e1",
   "metadata": {},
   "source": [
    "<h4 style=\"color:green\">HTML version</h4> <a id='headings_html'>"
   ]
  },
  {
   "cell_type": "markdown",
   "id": "538ccb02",
   "metadata": {},
   "source": [
    "<h1> Heading 1\n",
    "<h2> Heading 2\n",
    "<h3> Heading 3\n",
    "<h4> Heading 3\n",
    "<h5> Heading 3"
   ]
  },
  {
   "cell_type": "markdown",
   "id": "2e406dde",
   "metadata": {},
   "source": [
    "## <span style='background :green' >    <span style='color:white'> Line breaks(줄바꾸기) </span>     </span> <a id='linebreaks'>"
   ]
  },
  {
   "cell_type": "markdown",
   "id": "9a1f1976",
   "metadata": {},
   "source": [
    "#### <font color = green> Markdown version <a id='linebreaks_markdown'>"
   ]
  },
  {
   "cell_type": "markdown",
   "id": "a54b17be",
   "metadata": {},
   "source": [
    "I simply need two or more spaces for next line  \n",
    "This is next line"
   ]
  },
  {
   "cell_type": "markdown",
   "id": "274d7c28",
   "metadata": {},
   "source": [
    "<h4 style=\"color:green\">HTML version</h4> <a id='linebreaks_html'>"
   ]
  },
  {
   "cell_type": "markdown",
   "id": "a5f9bb96",
   "metadata": {},
   "source": [
    "<p> I need to input \"br\" for next line. <br> This is next line </p>"
   ]
  },
  {
   "cell_type": "markdown",
   "id": "2366a69e",
   "metadata": {},
   "source": [
    "## <span style='background :green' >    <span style='color:white'> Mark Emphasis(강조) </span>     </span> <a id='emphasis'>"
   ]
  },
  {
   "cell_type": "markdown",
   "id": "7a4932d0",
   "metadata": {},
   "source": [
    "#### <font color = green> Markdown version <a id='emphasis_markdown'>\n",
    "<font color = red> Underline(밑줄)은 HTML Tag로만 됩니다"
   ]
  },
  {
   "cell_type": "markdown",
   "id": "b1167283",
   "metadata": {},
   "source": [
    "**진한 남자 킴픽**  \n",
    "__강한 남자 킴픽__\n",
    "\n",
    "_Italics 킴픽_  \n",
    "*Italics 킴픽*\n",
    "\n",
    "~~킴픽 멋져~~"
   ]
  },
  {
   "cell_type": "markdown",
   "id": "40643c8b",
   "metadata": {},
   "source": [
    "<h4 style=\"color:green\">HTML version</h4> <a id='emphasis_html'>"
   ]
  },
  {
   "cell_type": "markdown",
   "id": "5d4f53d3",
   "metadata": {},
   "source": [
    "<b> 진한 남자 킴픽 </b>  \n",
    "<strong> 강한 남자 킴픽  </strong>\n",
    "\n",
    "<i> Italics 킴픽</i>  \n",
    "<em> Italics 킴픽 </em>\n",
    "\n",
    "<strike>킴픽 멋져</strike>"
   ]
  },
  {
   "cell_type": "markdown",
   "id": "69d7cf39",
   "metadata": {},
   "source": [
    "<u> 밑줄긋기는 HTML 밖에 없습니다!!!!!!!!!!!!!!</u>"
   ]
  },
  {
   "cell_type": "markdown",
   "id": "56b89968",
   "metadata": {},
   "source": [
    "## <span style='background :green' >    <span style='color:white'> Font/Background Color(폰트,배경 색깔)   </span>     </span> <a id='font_background_color'>"
   ]
  },
  {
   "cell_type": "markdown",
   "id": "f07f6f75",
   "metadata": {},
   "source": [
    "#### <font color = green> font color(폰트 컬러) <a id='font_color'>"
   ]
  },
  {
   "cell_type": "markdown",
   "id": "5a3ac22f",
   "metadata": {},
   "source": [
    "<span style='color:Blue'> 파랑 is blue.  </span>  \n",
    "<font color = red> 빨강 is red  </font>"
   ]
  },
  {
   "cell_type": "markdown",
   "id": "71541c2c",
   "metadata": {},
   "source": [
    "#### <font color = green> font background(폰트 백그라운드) <a id='background_color'>"
   ]
  },
  {
   "cell_type": "markdown",
   "id": "d706f116",
   "metadata": {},
   "source": [
    "<span style='background :yellow' > 노랑 is background </span>"
   ]
  },
  {
   "cell_type": "markdown",
   "id": "548ddf49",
   "metadata": {},
   "source": [
    "## <span style='background :green' >    <span style='color:white'> Horizontal Line(가로줄)   </span>     </span> <a id='horizontal_line'>"
   ]
  },
  {
   "cell_type": "markdown",
   "id": "f803b077",
   "metadata": {},
   "source": [
    "#### <font color = green> Markdown version <a id='horizontal_markdown'>"
   ]
  },
  {
   "cell_type": "markdown",
   "id": "ead5030b",
   "metadata": {},
   "source": [
    "---"
   ]
  },
  {
   "cell_type": "markdown",
   "id": "be9eadf0",
   "metadata": {},
   "source": [
    "<h4 style=\"color:green\">HTML version</h4> <a id='horizontal_html'>"
   ]
  },
  {
   "cell_type": "markdown",
   "id": "875e7cee",
   "metadata": {},
   "source": [
    "<hr>"
   ]
  },
  {
   "cell_type": "markdown",
   "id": "ec6ea700",
   "metadata": {},
   "source": [
    "## <span style='background :green' >    <span style='color:white'> List(리스트) </span>     </span> <a id='list'>"
   ]
  },
  {
   "cell_type": "markdown",
   "id": "36aa7363",
   "metadata": {},
   "source": [
    "#### <span style='background :green' >    <span style='color:white'> Ordered List </span>     </span> <a id='ordered_list'>"
   ]
  },
  {
   "cell_type": "markdown",
   "id": "fed813cb",
   "metadata": {},
   "source": [
    "#### <font color = green> Markdown version <a id='ordered_list_markdown'>"
   ]
  },
  {
   "cell_type": "markdown",
   "id": "f9048cbe",
   "metadata": {},
   "source": [
    "1. Apple\n",
    "    1. 사과는 (들여쓰기 할때는 Tab 혹은 Space 연타)\n",
    "    2. 빨개\n",
    "2. Banana\n",
    "    1. 바나나는\n",
    "    2. 길어\n",
    "        3. 길으면 기차       "
   ]
  },
  {
   "cell_type": "markdown",
   "id": "400e84ee",
   "metadata": {},
   "source": [
    "<h4 style=\"color:green\">HTML version</h4> <a id='ordered_list_html'>"
   ]
  },
  {
   "cell_type": "markdown",
   "id": "044168c7",
   "metadata": {},
   "source": [
    "<ol>\n",
    " <li>Apple</li>\n",
    " <li>Banana</li>\n",
    " <li>Coconut</li>\n",
    "    <ol>\n",
    "        <li>코코넛 1</li>\n",
    "        <li>코코넛 2</li>\n",
    "    </ol>\n",
    "</ol>"
   ]
  },
  {
   "cell_type": "markdown",
   "id": "b72d5739",
   "metadata": {},
   "source": [
    "#### <span style='background :green' >    <span style='color:white'> Unordered List </span>     </span> <a id='unordered_list'>"
   ]
  },
  {
   "cell_type": "markdown",
   "id": "82d058bd",
   "metadata": {},
   "source": [
    "#### <font color = green> Markdown version <a id='unordered_list_markdown'>"
   ]
  },
  {
   "cell_type": "markdown",
   "id": "6a266c67",
   "metadata": {},
   "source": [
    "- 킴픽 1\n",
    "+ 킴픽 2\n",
    "* 킴픽 3"
   ]
  },
  {
   "cell_type": "markdown",
   "id": "4101ead5",
   "metadata": {},
   "source": [
    "<h4 style=\"color:green\">HTML version</h4> <a id='unordered_list_html'>"
   ]
  },
  {
   "cell_type": "markdown",
   "id": "90daffe5",
   "metadata": {},
   "source": [
    "<ul>\n",
    " <li>사과</li>\n",
    " <li>바나나</li>\n",
    " <li>코코넛</li>\n",
    "    <ul>\n",
    "    <li> 코코넛 1\n",
    "    <li> 코코넛 2\n",
    "    </ul>\n",
    " </ul>"
   ]
  },
  {
   "cell_type": "markdown",
   "id": "24278d02",
   "metadata": {},
   "source": [
    "## <span style='background :green' >    <span style='color:white'> Image(이미지) </span>     </span> <a id='image'>"
   ]
  },
  {
   "cell_type": "markdown",
   "id": "0f25606c",
   "metadata": {},
   "source": [
    "#### <font color = green> Method 1—직접 삽입 <a id='image_method1'>"
   ]
  },
  {
   "cell_type": "markdown",
   "id": "2b55a6f1",
   "metadata": {},
   "source": [
    "<img src=\"images\\direct_image_insert.png\" alt=\"Direct image insert\" >"
   ]
  },
  {
   "attachments": {
    "smart_binky.png": {
     "image/png": "[encoded data removed]"
    }
   },
   "cell_type": "markdown",
   "id": "b57c9b9a",
   "metadata": {},
   "source": [
    "![smart_binky.png](attachment:smart_binky.png) \n",
    "\n",
    "\n",
    "<div>\n",
    "<img src=\"attachment:smart_binky.png\" width=\"100\"/>\n",
    "</div>"
   ]
  },
  {
   "cell_type": "markdown",
   "id": "d9fdd7d6",
   "metadata": {},
   "source": [
    "#### <font color = green> Method 2—디렉토리 이미지 삽입 <a id='image_method2'>"
   ]
  },
  {
   "cell_type": "markdown",
   "id": "994c4598",
   "metadata": {},
   "source": [
    "<img src=\"images/soldier_binky.png\" alt=\"Solider\" width=100>"
   ]
  },
  {
   "cell_type": "markdown",
   "id": "ebfa508e",
   "metadata": {},
   "source": [
    "#### <font color = green> Method 3—웹이미지 삽입 <a id='image_method3'>"
   ]
  },
  {
   "cell_type": "markdown",
   "id": "ebe7d710",
   "metadata": {},
   "source": [
    "<img src=\"https://user-images.githubusercontent.com/112807663/188311374-9e419a3d-8d9b-436a-8b1d-4063bad60130.png\" alt=\"Kimpeek Boy\" width=100>"
   ]
  },
  {
   "cell_type": "markdown",
   "id": "690d74b6",
   "metadata": {},
   "source": [
    "<img src=\"images/muhan_princess.jfif\" alt=\"Muhan Princess\" width=600>"
   ]
  },
  {
   "cell_type": "markdown",
   "id": "293a2b9c",
   "metadata": {},
   "source": [
    "***\n",
    "# <span style='background :white' >    <span style='color:purple'> <u> 꾸미기 심화  </span></span> <a id='intermediate'>\n"
   ]
  },
  {
   "cell_type": "markdown",
   "id": "8b16a3fe",
   "metadata": {},
   "source": [
    "## <span style='background :purple' >    <span style='color:white'> Blockquote(블록쿼트) </span>     </span> <a id='blockquote'>"
   ]
  },
  {
   "cell_type": "markdown",
   "id": "08bab464",
   "metadata": {},
   "source": [
    "#### <font color = purple> Markdown version <a id='blockquote_markdown'>"
   ]
  },
  {
   "cell_type": "markdown",
   "id": "be380534",
   "metadata": {},
   "source": [
    "> This is blockquote. 바람이 불어오는 곳\n",
    "그 곳으로 가네\n",
    "그대의 머리결같은\n",
    "나무아래로\n",
    "덜컹이는 기차에 기대어\n",
    "너에게 편지를 쓴다\n",
    "꿈에 보았던 길\n",
    "그 길에 서있네\n",
    "설레임과 두려움으로\n",
    "불안한 행복이지만\n",
    "우리가 느끼며 바라볼\n",
    "하늘과 사람들\n",
    "힘겨운 날들도 있지만\n",
    "새로운 꿈들을 위해\n",
    "바람이 불어 오는 곳\n",
    "그 곳으로 가네"
   ]
  },
  {
   "cell_type": "markdown",
   "id": "c01d1ee8",
   "metadata": {},
   "source": [
    "<h4 style=\"color:purple\">HTML version</h4> <a id='blockquote_html'>"
   ]
  },
  {
   "cell_type": "markdown",
   "id": "1aa20641",
   "metadata": {},
   "source": [
    "<blockquote> This is blockquote. 나 보기가 역겨워 가실 때에는 말없이 고이 보내드리오리다.\n",
    "영변에 약산 진달래꽃, 아름따다 가실 길에 뿌리오리다. 가시는 걸음 걸음 놓인 그 꽃을 사뿐히 즈려밟고 가시옵서서.\n",
    "나 보기가 역겨워 가실 때에는 죽어도 아니 눈물 흘리오리다."
   ]
  },
  {
   "cell_type": "markdown",
   "id": "7a3e5679",
   "metadata": {},
   "source": [
    "## <span style='background :purple' >    <span style='color:white'> Nested Blockquote(네스트 블록쿼트) </span>     </span> <a id='nestedblockquote'>"
   ]
  },
  {
   "cell_type": "markdown",
   "id": "1562e4cf",
   "metadata": {},
   "source": [
    "#### <font color = purple> Markdown version <a id='nestedblockquote_markdown'>"
   ]
  },
  {
   "cell_type": "markdown",
   "id": "b1e6d3a7",
   "metadata": {},
   "source": [
    "> kim peek level 1\n",
    ">> kim peek level 2\n",
    ">>> kim peek level 3"
   ]
  },
  {
   "cell_type": "markdown",
   "id": "019a1395",
   "metadata": {},
   "source": [
    "<h4 style=\"color:purple\">HTML version</h4> <a id='nestedblockquote_html'>"
   ]
  },
  {
   "cell_type": "markdown",
   "id": "4f9b5c86",
   "metadata": {},
   "source": [
    "<blockquote>\n",
    "<p>KIM PEEK LEVEL 1</p>\n",
    "<blockquote>\n",
    "<p>KIM PEEK LEVEL 2</p>\n",
    "<blockquote>\n",
    "<p>KIM PEEK LEVEL 3</p>\n",
    "</blockquote>\n",
    "</blockquote>\n",
    "</blockquote>"
   ]
  },
  {
   "cell_type": "markdown",
   "id": "755acfe8",
   "metadata": {},
   "source": [
    "## <span style='background :purple' >    <span style='color:white'> Code Blocks </span>     </span> <a id='codeblock'>"
   ]
  },
  {
   "cell_type": "markdown",
   "id": "db69a3d6",
   "metadata": {},
   "source": [
    "#### <font color = purple> Markdown version <a id='codeblock_markdown'>\n",
    "<font color = red> HTML에서 Codeblock은 구현은 복잡하므로 패스"
   ]
  },
  {
   "cell_type": "markdown",
   "id": "a2573202",
   "metadata": {},
   "source": [
    "```python\n",
    "## 맨 앞에 ```를 적어서 시작\n",
    "i = 0\n",
    "while i<3:\n",
    "    print('킴픽')\n",
    "    i+=1\n",
    "```"
   ]
  },
  {
   "cell_type": "markdown",
   "id": "f68bf32d",
   "metadata": {},
   "source": [
    "~~~python\n",
    "## 맨 앞에 ~~~ 를 적어서 시작\n",
    "for i in ['kim', 'peek']:\n",
    "    print(i)\n",
    "~~~"
   ]
  },
  {
   "cell_type": "markdown",
   "id": "8b48a64f",
   "metadata": {},
   "source": [
    "## <span style='background :purple' >    <span style='color:white'> Table(표) </span>     </span> <a id='tables'>"
   ]
  },
  {
   "cell_type": "markdown",
   "id": "56edbc7d",
   "metadata": {},
   "source": [
    "#### <font color = purple> Markdown version <a id='tables_markdown'>"
   ]
  },
  {
   "cell_type": "markdown",
   "id": "e2775bd3",
   "metadata": {},
   "source": [
    "| Id | 과일     | 가격  |\n",
    "|--- |----------| ------|\n",
    "| 01 | APPLE    | \\$111 |\n",
    "| 02 | BANANA   | \\$222 |\n",
    "| 03 | COCONUT  | \\$333 |"
   ]
  },
  {
   "cell_type": "markdown",
   "id": "78fec047",
   "metadata": {},
   "source": [
    "<h4 style=\"color:purple\">HTML version</h4> <a id='tables_html'>"
   ]
  },
  {
   "cell_type": "markdown",
   "id": "779ef99d",
   "metadata": {},
   "source": [
    "<table>\n",
    "  <tr>\n",
    "    <th>ID     </th>\n",
    "    <th>과일  </th>\n",
    "    <th>색깔</th>\n",
    "  </tr>\n",
    "  <tr>\n",
    "    <td>01</td>\n",
    "    <td>사과</td>\n",
    "    <td>Red</td>\n",
    "  </tr>\n",
    "  <tr>\n",
    "    <td>02</td>\n",
    "    <td>바나나</td>\n",
    "    <td>Yellow</td>\n",
    "  </tr>\n",
    "</table>"
   ]
  },
  {
   "cell_type": "markdown",
   "id": "6cb522a1",
   "metadata": {},
   "source": [
    "## <span style='background :purple' >    <span style='color:white'> Colored Boxes(컬러박스) </span>     </span> <a id='colorbox'>"
   ]
  },
  {
   "cell_type": "markdown",
   "id": "1cdacaa3",
   "metadata": {},
   "source": [
    "<div class=\"alert alert-block alert-info\">\n",
    "<b>파랑:</b> 파란 하늘\n",
    "</div>"
   ]
  },
  {
   "cell_type": "markdown",
   "id": "98da7008",
   "metadata": {},
   "source": [
    "<div class=\"alert alert-block alert-warning\">\n",
    "<b>노랑:</b> 노란 바나나\n",
    "</div>"
   ]
  },
  {
   "cell_type": "markdown",
   "id": "78f0b1e3",
   "metadata": {},
   "source": [
    "<div class=\"alert alert-block alert-success\">\n",
    "<b>초록:</b> 초록 나무\n",
    "</div>"
   ]
  },
  {
   "cell_type": "markdown",
   "id": "75acbb73",
   "metadata": {},
   "source": [
    "<div class=\"alert alert-block alert-danger\">\n",
    "<b>빨강:</b> 빨간 사과\n",
    "</div>"
   ]
  },
  {
   "cell_type": "markdown",
   "id": "4444e3a8",
   "metadata": {},
   "source": [
    "## <span style='background :purple' >    <span style='color:white'> External Link(외부링크) </span>     </span> <a id='external_links'>"
   ]
  },
  {
   "cell_type": "markdown",
   "id": "48f63dfe",
   "metadata": {},
   "source": [
    "#### <font color = purple> Markdown version <a id='external_links_markdown'>"
   ]
  },
  {
   "cell_type": "markdown",
   "id": "1b9c5752",
   "metadata": {},
   "source": [
    "https://www.naver.com\n",
    "\n",
    "[클릭해주세요](https://www.naver.com)\n",
    "\n",
    "오른쪽 링크를 [클릭해주세요 feat 마우스오버 텍스트](https://www.naver.com \"네이버\")"
   ]
  },
  {
   "cell_type": "markdown",
   "id": "e2ddf0cf",
   "metadata": {},
   "source": [
    "<h4 style=\"color:purple\">HTML version</h4> <a id='external_links_html'>"
   ]
  },
  {
   "cell_type": "markdown",
   "id": "c91e1ee1",
   "metadata": {},
   "source": [
    "<a href=\"https://www.naver.com\">https://www.naver.com</a>\n",
    "\n",
    "<a href=\"https://www.naver.com\">클릭해주세요</a>\n",
    "\n",
    "오른쪽 링크를 <a href=\"https://www.naver.com\" title=”네이버”>클릭해주세요 feat 마우스오버 텍스트</a>"
   ]
  },
  {
   "cell_type": "markdown",
   "id": "dbe1e07c",
   "metadata": {},
   "source": [
    "## <span style='background :purple' >    <span style='color:white'> Internal Link(링크) </span>     </span> <a id='internal_links'>"
   ]
  },
  {
   "cell_type": "markdown",
   "id": "18121724",
   "metadata": {},
   "source": [
    "- [순간이동1](#teleport_1)\n",
    "- [순간이동2](#teleport_2)"
   ]
  },
  {
   "cell_type": "markdown",
   "id": "92d8f910",
   "metadata": {},
   "source": [
    "순간이동1<a id='teleport_1'>\n",
    "    \n",
    "순간이동2<a id='teleport_2'>"
   ]
  },
  {
   "cell_type": "markdown",
   "id": "28ecca92",
   "metadata": {},
   "source": [
    "***\n",
    "<img src=\"images/too_much_talker_park.jfif\" alt=\"투머치토커\" >"
   ]
  },
  {
   "cell_type": "markdown",
   "id": "b1a2a4e5",
   "metadata": {},
   "source": [
    "***\n",
    "# <span style='background :white' >    <span style='color:chocolate'><u> Latex (라텍스) </span>     </span> <a id='latex'>"
   ]
  },
  {
   "cell_type": "markdown",
   "id": "d17c7d3d",
   "metadata": {},
   "source": [
    "<div class=\"alert alert-block alert-warning\">\n",
    "<b><u>두 가지 모드</u></b> \n",
    "    \n",
    "- 주피터 노트북에서는 LateX라는 markup language를 이용하여서 수학 기호와 수식을 나타낼 수 있습니다. \n",
    "- \\$ 여기다가 Latex를 넣기 \\\\$\n",
    "- \\\\$\\\\$ Latex를 중앙에 위치하게 하기  \\\\$\\\\$\n",
    "- LateX 의 표기법은 방대합니다. 이 노트북 안에서 찾을 수 없다면 아래 링크들을 참조해주세요\n",
    "    - https://oeis.org/wiki/List_of_LaTeX_mathematical_symbols\n",
    "    - https://towardsdatascience.com/write-markdown-latex-in-the-jupyter-notebook-10985edb91fd\n",
    "</div>"
   ]
  },
  {
   "cell_type": "markdown",
   "id": "d59399e8",
   "metadata": {},
   "source": [
    "Euler's identity: $ e^{i \\pi} + 1 = 0 $"
   ]
  },
  {
   "cell_type": "markdown",
   "id": "a4710624",
   "metadata": {},
   "source": [
    "Euler's identity: $$ e^{i \\pi} + 1 = 0 $$"
   ]
  },
  {
   "cell_type": "markdown",
   "id": "faa49570",
   "metadata": {},
   "source": [
    "## <span style='background :chocolate' >    <span style='color:white'> Greek letters(그리스알파벳) </span>     </span> <a id='greek_letters'>"
   ]
  },
  {
   "cell_type": "markdown",
   "id": "4c1fcff1",
   "metadata": {},
   "source": [
    "<table>\n",
    "  <tr>\n",
    "    <th>Symbol     </th>\n",
    "    <th>Latex  </th>\n",
    "    <th>Symbol</th>\n",
    "    <th>Latex</th>\n",
    "  </tr>\n",
    "  <tr>\n",
    "    <td>$\\alpha$</td>\n",
    "    <td>\\alpha</td>\n",
    "    <td>$\\nu$</td>\n",
    "    <td>\\nu</td>\n",
    "  </tr>\n",
    "  <tr>\n",
    "    <td>$\\beta$</td>\n",
    "    <td>\\beta</td>\n",
    "    <td>$\\xi \\ \\Xi$</td>\n",
    "    <td>\\xi \\Xi</td>\n",
    "  </tr>\n",
    "  <tr>\n",
    "    <td>$\\gamma \\ \\Gamma$</td>\n",
    "    <td>\\gamma \\Gamma</td>\n",
    "    <td>$\\omicron$</td>\n",
    "    <td>\\omicron</td>\n",
    "  </tr>\n",
    "  <tr>\n",
    "    <td>$\\delta \\ \\ \\Delta$</td>\n",
    "    <td>\\delta \\Delta</td>\n",
    "    <td>$\\Pi \\ \\pi \\ \\varpi$</td>\n",
    "    <td>\\Pi, \\pi and \\varpi</td>\n",
    "  </tr>\n",
    "  <tr>\n",
    "    <td>$\\epsilon \\ \\varepsilon$</td>\n",
    "    <td>\\epsilon \\varepsilon</td>\n",
    "    <td>$\\rho \\ \\varrho$</td>\n",
    "    <td>\\rho and \\varrho</td>\n",
    "  </tr>\n",
    "  <tr>\n",
    "    <td>$\\zeta$</td>\n",
    "    <td>\\zeta</td>\n",
    "    <td>$\\Sigma \\ \\sigma \\ \\varsigma$</td>\n",
    "    <td>\\Sigma, \\sigma and \\varsigma</td>\n",
    "  </tr>\n",
    "  <tr>\n",
    "    <td>$\\eta$</td>\n",
    "    <td>\\eta</td>\n",
    "    <td>$\\tau$</td>\n",
    "    <td>\\tau</td>\n",
    "  </tr>\n",
    "  <tr>\n",
    "    <td>$\\theta \\ \\ \\Theta \\ \\vartheta$</td>\n",
    "    <td>\\theta \\Theta \\vartheta</td>\n",
    "    <td>$\\Upsilon \\ \\upsilon$</td>\n",
    "    <td>\\Upsilon and \\upsilon</td>\n",
    "  </tr>\n",
    "  <tr>\n",
    "    <td>$\\iota$</td>\n",
    "    <td>\\iota</td>\n",
    "    <td>$\\Phi \\ \\phi \\ \\varphi$</td>\n",
    "    <td>\\Phi, \\phi and \\varphi</td>\n",
    "  </tr>\n",
    "  <tr>\n",
    "    <td>$\\kappa \\ \\varkappa$</td>\n",
    "    <td>\\kappa \\varkappa</td>\n",
    "    <td>$\\chi$</td>\n",
    "    <td>\\chi</td>\n",
    "  </tr>\n",
    "  <tr>\n",
    "    <td>$\\lambda \\ \\Lambda$</td>\n",
    "    <td>\\lambda \\Lambda</td>\n",
    "    <td>$\\Psi \\ \\psi$</td>\n",
    "    <td>\\Psi and \\psi</td>\n",
    "  </tr>\n",
    "  <tr>\n",
    "    <td>$\\mu$</td>\n",
    "    <td>\\mu</td>\n",
    "    <td>$\\Omega \\ \\ \\omega$</td>\n",
    "    <td>\\Omega and \\omega</td>\n",
    "  </tr>\n",
    "</table>"
   ]
  },
  {
   "cell_type": "markdown",
   "id": "54c31857",
   "metadata": {},
   "source": [
    "## <span style='background :chocolate' >    <span style='color:white'> Unary Operators(한국말로 뭔지 모름) </span>     </span> <a id='unary_operators'>"
   ]
  },
  {
   "cell_type": "markdown",
   "id": "bd6763a3",
   "metadata": {},
   "source": [
    "\n",
    "<table>\n",
    "  <tr>\n",
    "    <th>ID     </th>\n",
    "    <th>과일  </th>\n",
    "    <th>색깔</th>\n",
    "  </tr>\n",
    "  <tr>\n",
    "    <td>01</td>\n",
    "    <td>사과</td>\n",
    "    <td>Red</td>\n",
    "  </tr>\n",
    "  <tr>\n",
    "    <td>02</td>\n",
    "    <td>바나나</td>\n",
    "    <td>Yellow</td>\n",
    "  </tr>\n",
    "</table>"
   ]
  },
  {
   "cell_type": "markdown",
   "id": "bac44789",
   "metadata": {},
   "source": [
    "## <span style='background :chocolate' >    <span style='color:white'> Relation Operators(한국말로 뭔지 모름) </span>     </span> <a id='relation_operators'>"
   ]
  },
  {
   "cell_type": "markdown",
   "id": "390c9a2c",
   "metadata": {},
   "source": [
    "<table>\n",
    "  <tr>\n",
    "    <th>ID     </th>\n",
    "    <th>과일  </th>\n",
    "    <th>색깔</th>\n",
    "  </tr>\n",
    "  <tr>\n",
    "    <td>01</td>\n",
    "    <td>사과</td>\n",
    "    <td>Red</td>\n",
    "  </tr>\n",
    "  <tr>\n",
    "    <td>02</td>\n",
    "    <td>바나나</td>\n",
    "    <td>Yellow</td>\n",
    "  </tr>\n",
    "</table>"
   ]
  },
  {
   "cell_type": "markdown",
   "id": "80c0985d",
   "metadata": {},
   "source": [
    "## <span style='background :chocolate' >    <span style='color:white'> Binary Operators(한국말로 뭔지 모름) </span>     </span> <a id='binary_operators'>"
   ]
  },
  {
   "cell_type": "markdown",
   "id": "5ab29e13",
   "metadata": {},
   "source": [
    "<table>\n",
    "  <tr>\n",
    "    <th>ID     </th>\n",
    "    <th>과일  </th>\n",
    "    <th>색깔</th>\n",
    "  </tr>\n",
    "  <tr>\n",
    "    <td>01</td>\n",
    "    <td>사과</td>\n",
    "    <td>Red</td>\n",
    "  </tr>\n",
    "  <tr>\n",
    "    <td>02</td>\n",
    "    <td>바나나</td>\n",
    "    <td>Yellow</td>\n",
    "  </tr>\n",
    "</table>"
   ]
  },
  {
   "cell_type": "markdown",
   "id": "da6a81de",
   "metadata": {},
   "source": [
    "## <span style='background :chocolate' >    <span style='color:white'> Negated binary relations(한국말로 뭔지 모름) </span>     </span> <a id='aaaaaa'>"
   ]
  },
  {
   "cell_type": "code",
   "execution_count": null,
   "id": "a77c5b09",
   "metadata": {},
   "outputs": [],
   "source": []
  },
  {
   "cell_type": "markdown",
   "id": "f8f31f3c",
   "metadata": {},
   "source": [
    "## <span style='background :chocolate' >    <span style='color:white'> Set and/or logic notation(한국말로 뭔지 모름) </span>     </span> <a id='aaaaaaaaaa'>"
   ]
  },
  {
   "cell_type": "code",
   "execution_count": null,
   "id": "bbcb29fb",
   "metadata": {},
   "outputs": [],
   "source": []
  },
  {
   "cell_type": "markdown",
   "id": "9330eedb",
   "metadata": {},
   "source": [
    "## <span style='background :chocolate' >    <span style='color:white'> Geometry(한국말로 뭔지 모름) </span>     </span> <a id='aaaaaaaa'>"
   ]
  },
  {
   "cell_type": "code",
   "execution_count": null,
   "id": "15e6b83e",
   "metadata": {},
   "outputs": [],
   "source": []
  },
  {
   "cell_type": "markdown",
   "id": "3f71ac31",
   "metadata": {},
   "source": [
    "## <span style='background :chocolate' >    <span style='color:white'> Delimiters(한국말로 뭔지 모름) </span>     </span> <a id='aaaaaaaa'>"
   ]
  },
  {
   "cell_type": "code",
   "execution_count": null,
   "id": "9c0485ec",
   "metadata": {},
   "outputs": [],
   "source": []
  },
  {
   "cell_type": "markdown",
   "id": "ad1fc313",
   "metadata": {},
   "source": [
    "## <span style='background :chocolate' >    <span style='color:white'> Arrows(한국말로 뭔지 모름) </span>     </span> <a id='aaaaaaaa'>"
   ]
  },
  {
   "cell_type": "code",
   "execution_count": null,
   "id": "05f0fd8e",
   "metadata": {},
   "outputs": [],
   "source": []
  },
  {
   "cell_type": "markdown",
   "id": "8f835335",
   "metadata": {},
   "source": [
    "## <span style='background :chocolate' >    <span style='color:white'> Other symbols(한국말로 뭔지 모름) </span>     </span> <a id='aaaaaaaa'>"
   ]
  },
  {
   "cell_type": "code",
   "execution_count": null,
   "id": "e3fa7ef6",
   "metadata": {},
   "outputs": [],
   "source": []
  },
  {
   "cell_type": "code",
   "execution_count": null,
   "id": "28f3ab9a",
   "metadata": {},
   "outputs": [],
   "source": []
  },
  {
   "cell_type": "code",
   "execution_count": null,
   "id": "d55d9eae",
   "metadata": {},
   "outputs": [],
   "source": []
  },
  {
   "cell_type": "markdown",
   "id": "c30054fc",
   "metadata": {},
   "source": [
    "***\n",
    "<img src=\"images/small_little_snail.jfif\" alt=\"baby_snail\" width=350 >"
   ]
  },
  {
   "cell_type": "markdown",
   "id": "4675ea3e",
   "metadata": {},
   "source": [
    "***\n",
    "# <span style='background :white' >    <span style='color:black'> <u> 꾸미기 미세팁  </span></span> <a id='tips'>"
   ]
  },
  {
   "cell_type": "markdown",
   "id": "a00a9437",
   "metadata": {},
   "source": [
    "## <span style='background :gray' >    <span style='color:white'> Backslash Escape </span>     </span> <a id='backslash_escape'>"
   ]
  },
  {
   "cell_type": "markdown",
   "id": "48fbeab9",
   "metadata": {},
   "source": [
    "\\# 해쉬태그 및 다른 Special character를 써야할 때  \\\\를 써주면 의도한 대로 프린트가 됩니다   \n",
    "\\_\\_킴픽__"
   ]
  }
 ],
 "metadata": {
  "kernelspec": {
   "display_name": "Python 3 (ipykernel)",
   "language": "python",
   "name": "python3"
  },
  "language_info": {
   "codemirror_mode": {
    "name": "ipython",
    "version": 3
   },
   "file_extension": ".py",
   "mimetype": "text/x-python",
   "name": "python",
   "nbconvert_exporter": "python",
   "pygments_lexer": "ipython3",
   "version": "3.9.12"
  }
 },
 "nbformat": 4,
 "nbformat_minor": 5
}
